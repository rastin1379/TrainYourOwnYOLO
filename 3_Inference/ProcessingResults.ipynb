{
 "cells": [
  {
   "cell_type": "code",
   "execution_count": 73,
   "id": "dbf1ee15",
   "metadata": {},
   "outputs": [],
   "source": [
    "import pandas as pd\n",
    "import os\n",
    "from PIL import Image\n",
    "import math\n",
    "from PIL import ImageDraw\n",
    "from PIL import ImageFont"
   ]
  },
  {
   "cell_type": "code",
   "execution_count": 74,
   "id": "ff54b4e9",
   "metadata": {},
   "outputs": [],
   "source": [
    "result_file = open('results.txt', 'r')"
   ]
  },
  {
   "cell_type": "code",
   "execution_count": 75,
   "id": "f3900d1d",
   "metadata": {},
   "outputs": [],
   "source": [
    "while True:\n",
    "    name = result_file.readline()\n",
    "    if not name:\n",
    "        break\n",
    "    name = name[:-1]\n",
    "    im = Image.open(\"../Data/Source_Images/Test_Images/\" + name)\n",
    "    img1 = ImageDraw.Draw(im)  \n",
    "    \n",
    "    boxes_count = result_file.readline()\n",
    "    for i in range(0, int(boxes_count)):\n",
    "        box = result_file.readline()\n",
    "        data = box.split(\" \")\n",
    "        min_pos = eval(data[2] + \" \" + data[3])\n",
    "        max_pos = eval(data[4] + \" \" + data[5])\n",
    "        img1.rectangle([min_pos, max_pos], outline =\"black\")\n",
    "        text_pos = (min_pos[0],  min_pos[1] - 30)\n",
    "        font = ImageFont.truetype(\"Arial Black.ttf\", 25)\n",
    "        img1.text(text_pos, data[0],(0,0,0), font=font)\n",
    "    im.save('./Training_Results/' + name + '.jpg')\n",
    " \n",
    "result_file.close()"
   ]
  },
  {
   "cell_type": "code",
   "execution_count": null,
   "id": "20c07817",
   "metadata": {},
   "outputs": [],
   "source": []
  }
 ],
 "metadata": {
  "kernelspec": {
   "display_name": "Python 3",
   "language": "python",
   "name": "python3"
  },
  "language_info": {
   "codemirror_mode": {
    "name": "ipython",
    "version": 3
   },
   "file_extension": ".py",
   "mimetype": "text/x-python",
   "name": "python",
   "nbconvert_exporter": "python",
   "pygments_lexer": "ipython3",
   "version": "3.8.8"
  }
 },
 "nbformat": 4,
 "nbformat_minor": 5
}
